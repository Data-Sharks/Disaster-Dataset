{
 "cells": [
  {
   "cell_type": "markdown",
   "metadata": {},
   "source": [
    "### Libraries"
   ]
  },
  {
   "cell_type": "code",
   "execution_count": 63,
   "metadata": {},
   "outputs": [],
   "source": [
    "import pandas as pd\n",
    "import os"
   ]
  },
  {
   "cell_type": "markdown",
   "metadata": {},
   "source": [
    "### Csv file to data frame"
   ]
  },
  {
   "cell_type": "code",
   "execution_count": 64,
   "metadata": {},
   "outputs": [],
   "source": [
    "# load dataset\n",
    "file_name = 'public_emdat_project.csv'\n",
    "file_path = os.path.abspath(os.path.join(os.getcwd(), file_name))\n",
    "df = pd.read_csv(file_path, sep=',', encoding='ISO-8859-1')\n"
   ]
  },
  {
   "cell_type": "markdown",
   "metadata": {},
   "source": [
    "### Checking a few first rows"
   ]
  },
  {
   "cell_type": "code",
   "execution_count": null,
   "metadata": {},
   "outputs": [],
   "source": [
    "df.head()"
   ]
  },
  {
   "cell_type": "markdown",
   "metadata": {},
   "source": [
    "### Death toll data\n"
   ]
  },
  {
   "cell_type": "code",
   "execution_count": null,
   "metadata": {},
   "outputs": [],
   "source": [
    "df_death = df[['Country','Region', 'Total Deaths', 'Event Name', 'Start Year', 'End Year', 'Disaster Group', 'Disaster Type']]\n",
    "df_death.head()"
   ]
  },
  {
   "cell_type": "markdown",
   "metadata": {},
   "source": [
    "### The most deadly disaster"
   ]
  },
  {
   "cell_type": "code",
   "execution_count": null,
   "metadata": {},
   "outputs": [],
   "source": [
    "df_death.loc[[df_death['Total Deaths'].idxmax()]]"
   ]
  },
  {
   "cell_type": "markdown",
   "metadata": {},
   "source": [
    "### Additional libraries"
   ]
  },
  {
   "cell_type": "code",
   "execution_count": 68,
   "metadata": {},
   "outputs": [],
   "source": [
    "import plotly.express as px"
   ]
  },
  {
   "cell_type": "markdown",
   "metadata": {},
   "source": [
    "### Death toll by country"
   ]
  },
  {
   "cell_type": "code",
   "execution_count": null,
   "metadata": {},
   "outputs": [],
   "source": [
    "df_dtoll_by_country = df.groupby('Country')['Total Deaths'].sum().sort_values(ascending=False)\n",
    "df_dtoll_by_country"
   ]
  },
  {
   "cell_type": "code",
   "execution_count": null,
   "metadata": {},
   "outputs": [],
   "source": [
    "df_dtoll_by_country_filtered = df_dtoll_by_country[df_dtoll_by_country > 10000]\n",
    "df_dtoll_by_country_filtered"
   ]
  },
  {
   "cell_type": "code",
   "execution_count": 71,
   "metadata": {},
   "outputs": [],
   "source": [
    "df_dtoll_by_country_filtered.to_csv(os.path.join(os.getcwd(),'CSV_files_for_dashboard','dtoll_by_country.csv'))"
   ]
  },
  {
   "cell_type": "code",
   "execution_count": null,
   "metadata": {},
   "outputs": [],
   "source": [
    "\n",
    "dtoll_by_country_plot = px.bar(df_dtoll_by_country_filtered, \n",
    "                               x=df_dtoll_by_country_filtered.index, \n",
    "                               y=df_dtoll_by_country_filtered.values, \n",
    "                               labels={'x':'Country', 'y':'Total Deaths'}, \n",
    "                               title=\"Total Deaths by Country (> 10000)\")\n",
    "dtoll_by_country_plot.update_layout(title_x=0.5, title_font=dict(size=25))\n",
    "dtoll_by_country_plot.show()"
   ]
  },
  {
   "cell_type": "markdown",
   "metadata": {},
   "source": [
    "### Death toll by region"
   ]
  },
  {
   "cell_type": "code",
   "execution_count": null,
   "metadata": {},
   "outputs": [],
   "source": [
    "df_dtoll_by_region = df.groupby('Region')['Total Deaths'].sum().sort_values(ascending=False)\n",
    "df_dtoll_by_region"
   ]
  },
  {
   "cell_type": "code",
   "execution_count": 74,
   "metadata": {},
   "outputs": [],
   "source": [
    "df_dtoll_by_region.to_csv(os.path.join(os.getcwd(),'CSV_files_for_dashboard', 'dtoll_by_region.csv'))"
   ]
  },
  {
   "cell_type": "code",
   "execution_count": null,
   "metadata": {},
   "outputs": [],
   "source": [
    "dtoll_by_region_plot = px.bar(df_dtoll_by_region, \n",
    "                              x=df_dtoll_by_region.index, \n",
    "                              y=df_dtoll_by_region.values,\n",
    "                              labels={'x':'Region', 'y':'Total Deaths'},\n",
    "                              title=\"Total Deaths by Region\")\n",
    "dtoll_by_region_plot.update_layout(title_x=0.5, title_font=dict(size=25))\n",
    "dtoll_by_region_plot.show()"
   ]
  },
  {
   "cell_type": "markdown",
   "metadata": {},
   "source": [
    "### Number of disasters over years"
   ]
  },
  {
   "cell_type": "code",
   "execution_count": 76,
   "metadata": {},
   "outputs": [],
   "source": [
    "df_disasters_over_years = df.groupby('Start Year')['DisNo.'].count()\n",
    "# removing data from 2024 as it is not complete\n",
    "df_disasters_over_years = df_disasters_over_years[df_disasters_over_years.index != 2024]\n",
    "\n",
    "df_disasters_over_years.to_csv(os.path.join(os.getcwd(),'CSV_files_for_dashboard','disasters_over_years.csv'))"
   ]
  },
  {
   "cell_type": "code",
   "execution_count": null,
   "metadata": {},
   "outputs": [],
   "source": [
    "distasters_over_years_plot = px.bar(df_disasters_over_years, \n",
    "                                    x=df_disasters_over_years.index, \n",
    "                                    y=df_disasters_over_years.values,\n",
    "                                    title='Number of disasters over years',\n",
    "                                    labels={'x':'Year', 'y':'Number of disasters'})\n",
    "distasters_over_years_plot.update_layout(title_x=0.5, \n",
    "                                         title_font=dict(size=25), \n",
    "                                         xaxis=dict(tickmode='linear'), \n",
    "                                         xaxis_title='Year')\n",
    "distasters_over_years_plot.show()"
   ]
  },
  {
   "cell_type": "markdown",
   "metadata": {},
   "source": [
    "### Number of distasters by region by year"
   ]
  },
  {
   "cell_type": "code",
   "execution_count": 78,
   "metadata": {},
   "outputs": [],
   "source": [
    "df_no_of_disasters_by_region_by_year = df.groupby(['Region', 'Start Year'])['DisNo.'].count().reset_index()\n",
    "\n",
    "# removing data from 2024 as it is not complete\n",
    "df_no_of_disasters_by_region_by_year = df_no_of_disasters_by_region_by_year[df_no_of_disasters_by_region_by_year['Start Year'] != 2024]\n",
    "df_no_of_disasters_by_region_by_year.to_csv(os.path.join(os.getcwd(),'CSV_files_for_dashboard','no_of_disasters_by_region_by_year.csv'), index=False)"
   ]
  },
  {
   "cell_type": "code",
   "execution_count": null,
   "metadata": {},
   "outputs": [],
   "source": [
    "df_no_of_disasters_by_region_by_year_plot = px.bar(df_no_of_disasters_by_region_by_year,\n",
    "                                                    x='Start Year',\n",
    "                                                    y='DisNo.',\n",
    "                                                    color='Region',\n",
    "                                                    title='Number of disasters by region and year',\n",
    "                                                    barmode='group')\n",
    "df_no_of_disasters_by_region_by_year_plot.update_layout(title_x=0.5, \n",
    "                                                        title_font=dict(size=25), \n",
    "                                                        xaxis=dict(tickmode='linear'), \n",
    "                                                        xaxis_title='Year',\n",
    "                                                        yaxis_title='Number of disasters')\n",
    "df_no_of_disasters_by_region_by_year_plot.show()"
   ]
  },
  {
   "cell_type": "markdown",
   "metadata": {},
   "source": [
    "### Number of disasters by group by year"
   ]
  },
  {
   "cell_type": "code",
   "execution_count": 80,
   "metadata": {},
   "outputs": [],
   "source": [
    "df_no_of_disasters_by_group_by_year = df.groupby(['Disaster Group', 'Region', 'Start Year'])['DisNo.'].count().reset_index()\n",
    "\n",
    "# removing data from 2024 as it is not complete\n",
    "df_no_of_disasters_by_group_by_year = df_no_of_disasters_by_group_by_year[df_no_of_disasters_by_group_by_year['Start Year'] != 2024]\n",
    "df_no_of_disasters_by_group_by_year.to_csv(os.path.join(os.getcwd(),'CSV_files_for_dashboard','no_of_disasters_by_group_by_year.csv'), index=False)"
   ]
  },
  {
   "cell_type": "code",
   "execution_count": null,
   "metadata": {},
   "outputs": [],
   "source": [
    "df_no_of_disasters_by_group_by_year_plot = px.bar(df_no_of_disasters_by_group_by_year,\n",
    "                                                  x='Start Year',\n",
    "                                                  y='DisNo.',\n",
    "                                                  color='Region',\n",
    "                                                  facet_col='Disaster Group',\n",
    "                                                  title='Number of disasters by group, region and year',)\n",
    "df_no_of_disasters_by_group_by_year_plot.update_layout(title_x=0.5, title_font=dict(size=25), yaxis_title='Number of disasters')\n",
    "df_no_of_disasters_by_group_by_year_plot.update_xaxes(title_text='Year', tickmode='linear')\n",
    "df_no_of_disasters_by_group_by_year_plot.show()"
   ]
  },
  {
   "cell_type": "markdown",
   "metadata": {},
   "source": [
    "### The 3 most common disaster types"
   ]
  },
  {
   "cell_type": "code",
   "execution_count": 86,
   "metadata": {},
   "outputs": [],
   "source": [
    "df_most_common_disaster_type = df.groupby('Disaster Type')['DisNo.'].count().sort_values(ascending=False).reset_index().head(3)\n",
    "df_most_common_disaster_type.rename(columns={'Disaster Type':'Disaster Type', 'DisNo.':'Disaster Occurences'}, inplace=True)\n",
    "df_most_common_disaster_type.to_csv(os.path.join(os.getcwd(),'CSV_files_for_dashboard','most_common_disaster_type.csv'), index=False)"
   ]
  },
  {
   "cell_type": "markdown",
   "metadata": {},
   "source": [
    "Total Damage by Disaster Type"
   ]
  },
  {
   "cell_type": "code",
   "execution_count": null,
   "metadata": {},
   "outputs": [],
   "source": [
    "import pandas as pd\n",
    "import matplotlib.pyplot as plt\n",
    "\n",
    "toll_damage_by_disaster_type = df.groupby(['Disaster Type'])[\"Total Damage ('000 US$)\"].sum().nlargest(10)\n",
    "\n",
    "toll_damage_by_disaster_type.plot(kind='bar', figsize=(12, 6), width=0.8, color = \"wheat\", edgecolor = \"goldenrod\")\n",
    "\n",
    "plt.title('Total Damage by Disaster Type', fontsize=14)\n",
    "plt.xlabel('Disaster Type', fontsize=12)\n",
    "plt.ylabel('Total Damage (‘000 US$)', fontsize=12)\n",
    "plt.xticks(rotation=45, ha='right')\n",
    "plt.legend(title='Disaster Type', bbox_to_anchor=(1.05, 1), loc='upper left')\n",
    "plt.show()\n"
   ]
  },
  {
   "cell_type": "markdown",
   "metadata": {},
   "source": []
  },
  {
   "cell_type": "markdown",
   "metadata": {},
   "source": [
    "Total Damage by Country"
   ]
  },
  {
   "cell_type": "code",
   "execution_count": null,
   "metadata": {},
   "outputs": [],
   "source": [
    "toll_damage_by_country = df.groupby(['Country'])[\"Total Damage ('000 US$)\"].sum().nlargest(10)\n",
    "\n",
    "toll_damage_by_country.plot(kind='bar', figsize=(12, 6), width=0.8, color = \"tan\", edgecolor = \"darkgoldenrod\")\n",
    "plt.title('Total Damage by Country', fontsize=14)\n",
    "plt.xlabel('Country', fontsize=12)\n",
    "plt.ylabel('Total Damage (‘000 US$)', fontsize=12)\n",
    "plt.xticks(rotation=45, ha='right')\n",
    "plt.legend(title='Country', bbox_to_anchor=(1.05, 1), loc='upper left')\n",
    "plt.show()"
   ]
  },
  {
   "cell_type": "markdown",
   "metadata": {},
   "source": [
    "Total Damage by Region"
   ]
  },
  {
   "cell_type": "code",
   "execution_count": null,
   "metadata": {},
   "outputs": [],
   "source": [
    "toll_damage_by_region = disasters_df.groupby(['Region'])[\"Total Damage ('000 US$)\"].sum()\n",
    "\n",
    "toll_damage_by_region.plot(kind='bar', figsize=(12, 6), width=0.8, color = \"burlywood\", edgecolor = \"peru\")\n",
    "plt.title('Total Damage by Region', fontsize=14)\n",
    "plt.xlabel('Region', fontsize=12)\n",
    "plt.ylabel('Total Damage (‘000 US$)', fontsize=12)\n",
    "plt.xticks(rotation=45, ha='right')\n",
    "plt.legend(title='Region', bbox_to_anchor=(1.05, 1), loc='upper left')\n",
    "plt.show()"
   ]
  },
  {
   "cell_type": "markdown",
   "metadata": {},
   "source": [
    "Country where Most Disasters Occured by Disaster Group"
   ]
  },
  {
   "cell_type": "code",
   "execution_count": null,
   "metadata": {},
   "outputs": [],
   "source": [
    "country_most_disasters_occured = df.groupby(['Country', 'Disaster Group'])['DisNo.'].count().unstack(fill_value=0)\n",
    "top_10_countries = country_most_disasters_occured.sum(axis=1).nlargest(10).index\n",
    "top_10_disasters_by_type = country_most_disasters_occured.loc[top_10_countries]\n",
    "\n",
    "top_10_disasters_by_type.plot(kind='bar', stacked=True, figsize=(12, 6), width=0.8, color=[\"darkseagreen\", \"tan\"], edgecolor=\"darkgoldenrod\")\n",
    "\n",
    "plt.title('Countries where Most Disasters Occured', fontsize=14)\n",
    "plt.xlabel('Country', fontsize=12)\n",
    "plt.ylabel('Number of Disasters', fontsize=12)\n",
    "plt.xticks(rotation=45, ha='right')\n",
    "plt.legend(title='Disaster Group', bbox_to_anchor=(1.05, 1), loc='upper left')\n",
    "plt.show()"
   ]
  },
  {
   "cell_type": "markdown",
   "metadata": {},
   "source": [
    "Country where Most Disasters Occured by Disaster Type"
   ]
  },
  {
   "cell_type": "code",
   "execution_count": null,
   "metadata": {},
   "outputs": [],
   "source": [
    "country_disasters_by_type = df.groupby(['Country', 'Disaster Type'])['DisNo.'].count().unstack(fill_value=0)\n",
    "\n",
    "top_10_country_most_disasters_occured_type = country_disasters_by_type.sum(axis=1).nlargest(10).index\n",
    "\n",
    "top_10_disasters_by_type = country_disasters_by_type.loc[top_10_country_most_disasters_occured_type]\n",
    "\n",
    "top_10_disasters_by_type.plot(kind='bar', stacked=True, figsize=(12, 6), width=0.8, edgecolor=\"darkgoldenrod\")\n",
    "\n",
    "plt.title('Countries where Most Disasters Occured', fontsize=14)\n",
    "plt.xlabel('Country', fontsize=12)\n",
    "plt.ylabel('Number of Disasters', fontsize=12)\n",
    "plt.xticks(rotation=45, ha='right')\n",
    "plt.legend(title='Disaster Type', bbox_to_anchor=(1.05, 1), loc='upper left')\n",
    "plt.show()"
   ]
  }
 ],
 "metadata": {
  "kernelspec": {
   "display_name": "Python 3 (ipykernel)",
   "language": "python",
   "name": "python3"
  },
  "language_info": {
   "codemirror_mode": {
    "name": "ipython",
    "version": 3
   },
   "file_extension": ".py",
   "mimetype": "text/x-python",
   "name": "python",
   "nbconvert_exporter": "python",
   "pygments_lexer": "ipython3",
   "version": "3.12.0"
  }
 },
 "nbformat": 4,
 "nbformat_minor": 2
}
